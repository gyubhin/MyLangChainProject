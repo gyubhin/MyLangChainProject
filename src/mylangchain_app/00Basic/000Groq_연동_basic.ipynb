{
 "cells": [
  {
   "cell_type": "code",
   "execution_count": 1,
   "metadata": {},
   "outputs": [
    {
     "name": "stdout",
     "output_type": "stream",
     "text": [
      "Hello LangChain\n"
     ]
    }
   ],
   "source": [
    "print(\"Hello LangChain\")"
   ]
  },
  {
   "cell_type": "code",
   "execution_count": 2,
   "metadata": {},
   "outputs": [
    {
     "name": "stdout",
     "output_type": "stream",
     "text": [
      "gsk_4MMNOC\n"
     ]
    }
   ],
   "source": [
    "import os\n",
    "from dotenv import load_dotenv\n",
    "from langchain_core.prompts import ChatPromptTemplate\n",
    "from langchain_openai import ChatOpenAI \n",
    "\n",
    "load_dotenv(dotenv_path='.env')\n",
    "OPENAI_API_KEY = os.getenv(\"OPENAI_API_KEY\")\n",
    "print(OPENAI_API_KEY[:10])\n"
   ]
  },
  {
   "cell_type": "code",
   "execution_count": 3,
   "metadata": {},
   "outputs": [
    {
     "data": {
      "text/plain": [
       "ChatPromptTemplate(input_variables=['input'], input_types={}, partial_variables={}, messages=[SystemMessagePromptTemplate(prompt=PromptTemplate(input_variables=[], input_types={}, partial_variables={}, template='당신은 개발자입니다.'), additional_kwargs={}), HumanMessagePromptTemplate(prompt=PromptTemplate(input_variables=['input'], input_types={}, partial_variables={}, template='{input}'), additional_kwargs={})])"
      ]
     },
     "execution_count": 3,
     "metadata": {},
     "output_type": "execute_result"
    }
   ],
   "source": [
    "# prompt + llm + output \n",
    "\n",
    "# prompt\n",
    "prompt = ChatPromptTemplate.from_messages(\n",
    "    [ (\"system\", \"당신은 개발자입니다.\") , \n",
    "     (\"user\", \"{input}\") ]\n",
    ")\n",
    "prompt"
   ]
  },
  {
   "cell_type": "code",
   "execution_count": 4,
   "metadata": {},
   "outputs": [
    {
     "name": "stdout",
     "output_type": "stream",
     "text": [
      "<class 'str'>\n",
      "System: 당신은 개발자입니다.\n",
      "Human: 파이썬은 무엇인가요? 자세하게 설명해주세요\n"
     ]
    }
   ],
   "source": [
    "prompt_text = prompt.format(input=\"파이썬은 무엇인가요? 자세하게 설명해주세요\")\n",
    "print(type(prompt_text))\n",
    "print(prompt_text)"
   ]
  },
  {
   "cell_type": "code",
   "execution_count": 13,
   "metadata": {},
   "outputs": [
    {
     "name": "stdout",
     "output_type": "stream",
     "text": [
      "<class 'langchain_openai.chat_models.base.ChatOpenAI'>\n",
      "client=<openai.resources.chat.completions.completions.Completions object at 0x00000215F2AB44A0> async_client=<openai.resources.chat.completions.completions.AsyncCompletions object at 0x00000215F2AB64B0> root_client=<openai.OpenAI object at 0x00000215F2AB4470> root_async_client=<openai.AsyncOpenAI object at 0x00000215F2AB4830> model_name='openai/gpt-oss-120b' temperature=0.7 model_kwargs={} openai_api_key=SecretStr('**********') openai_api_base='https://api.groq.com/openai/v1'\n"
     ]
    }
   ],
   "source": [
    "#llm = ChatOpenAI(api_key=OPENAI_API_KEY, model_name=\"gpt-3.5-turbo-0125\")\n",
    "\n",
    "# Groq API를 사용하는 ChatOpenAI 인스턴스 생성\n",
    "llm = ChatOpenAI(\n",
    "    # api_key=OPENAI_API_KEY, #default로 들어감 -> 선택\n",
    "    base_url=\"https://api.groq.com/openai/v1\",  # Groq API 엔드포인트\n",
    "    # model=\"meta-llama/llama-4-scout-17b-16e-instruct\",\n",
    "    # model=\"moonshotai/kimi-k2-instruct-0905\",\n",
    "    model=\"openai/gpt-oss-120b\",\n",
    "    temperature=0.7\n",
    ")\n",
    "print(type(llm))\n",
    "print(llm)"
   ]
  },
  {
   "cell_type": "code",
   "execution_count": 14,
   "metadata": {},
   "outputs": [
    {
     "name": "stdout",
     "output_type": "stream",
     "text": [
      "<class 'langchain_core.messages.ai.AIMessage'>\n",
      "응답: ## 파이썬(Python)이란?\n",
      "\n",
      "파이썬은 **고수준(high‑level) 인터프리터형 프로그래밍 언어**로, 1991년 네덜란드의 귀도 반 로섬(Guido van Rossum)이 처음 발표했습니다. 읽기 쉽고 쓰기 편한 문법, 풍부한 표준 라이브러리, 그리고 다양한 분야에 적용 가능한 **다목적 언어**라는 점이 큰 장점입니다. 현재는 웹 개발, 데이터 과학, 인공지능, 자동화, 시스템 관리, 교육 등 거의 모든 소프트웨어 분야에서 널리 사용되고 있습니다.\n",
      "\n",
      "---\n",
      "\n",
      "## 1. 파이썬의 주요 특징\n",
      "\n",
      "| 특징 | 설명 |\n",
      "|------|------|\n",
      "| **읽기 쉬운 문법** | 들여쓰기(Indentation)로 블록을 구분해 코드 가독성이 뛰어남. `;` 나 `{}` 같은 구분자를 거의 사용하지 않음. |\n",
      "| **동적 타이핑** | 변수 선언 시 타입을 명시하지 않아도 되며, 실행 시점에 타입이 결정됨. |\n",
      "| **인터프리터 언어** | 코드를 컴파일하지 않고 바로 실행할 수 있어 빠른 프로토타이핑이 가능. (단, JIT 컴파일러(PyPy) 등을 사용하면 성능 향상 가능) |\n",
      "| **풍부한 표준 라이브러리** | 파일 입출력, 네트워킹, 웹, 데이터베이스, 암호화 등 2천 개가 넘는 모듈이 기본 제공. |\n",
      "| **다양한 패키지 생태계** | `pip`(파이썬 패키지 관리자)를 통해 PyPI(Python Package Index)에서 수십만 개의 서드파티 패키지를 손쉽게 설치·사용 가능. |\n",
      "| **플랫폼 독립성** | Windows, macOS, Linux, 그리고 임베디드 시스템(Raspberry Pi 등)에서 동일하게 실행 가능. |\n",
      "| **객체지향·함수형·절차형** | 객체지향(OOP)뿐 아니라 함수형 프로그래밍 스타일도 지원. |\n",
      "| **강력한 커뮤니티** | 전 세계 수많은 개발자·연구자가 활발히 활동, 문서·튜토리얼·Q&A가 풍부. |\n",
      "\n",
      "---\n",
      "\n",
      "## 2. 파이썬의 역사\n",
      "\n",
      "| 연도 | 주요 사건 |\n",
      "|------|-----------|\n",
      "| **1989** | 귀도 반 로섬이 크리스마스 휴가 중에 파이썬 설계 시작 (ABC 언어와 모듈 시스템에 영감). |\n",
      "| **1991** | 파이썬 0.9.0 공개 – 모듈, 예외 처리, 함수, 기본 데이터 타입 제공. |\n",
      "| **1994** | 파이썬 1.0 출시 – 공식 릴리즈, `lambda`, `map`, `filter` 등 함수형 요소 도입. |\n",
      "| **2000** | 파이썬 2.0 출시 – 리스트 컴프리헨션, 가비지 컬렉션, Unicode 지원. |\n",
      "| **2008** | 파이썬 3.0 출시 – **호환성 깨짐**(break) 버전, `print`가 함수화, 문자열이 Unicode 기본, `xrange` → `range` 등. |\n",
      "| **2020** | 파이썬 3.9, 3.10, 3.11 등 최신 버전 발표 – 패턴 매칭, 성능 최적화, 타입 힌트 강화 등. |\n",
      "| **2023~** | 파이썬 3.12, 3.13 개발 진행 중 – 더 빠른 실행 속도와 새로운 문법 제안. |\n",
      "\n",
      "> **참고**: 파이썬 2.x는 2020년 1월에 공식 지원이 종료(EOL)되었습니다. 새 프로젝트는 반드시 3.x 버전을 사용해야 합니다.\n",
      "\n",
      "---\n",
      "\n",
      "## 3. 파이썬 문법 기본\n",
      "\n",
      "### 3.1 변수와 자료형\n",
      "\n",
      "```python\n",
      "# 정수, 실수, 문자열, 불리언\n",
      "a = 10          # int\n",
      "b = 3.14        # float\n",
      "msg = \"Hello\"   # str\n",
      "flag = True     # bool\n",
      "```\n",
      "\n",
      "### 3.2 컬렉션 타입\n",
      "\n",
      "| 타입 | 예시 | 특징 |\n",
      "|------|------|------|\n",
      "| `list` | `[1, 2, 3]` | 가변(mutable), 순서 보장, 중복 허용 |\n",
      "| `tuple` | `(1, 2, 3)` | 불변(immutable), 순서 보장 |\n",
      "| `dict` | `{'name': 'Alice', 'age': 30}` | 키‑값 쌍, 해시 기반, 빠른 조회 |\n",
      "| `set` | `{1, 2, 3}` | 중복 제거, 순서 없음, 집합 연산 지원 |\n",
      "\n",
      "### 3.3 제어 흐름\n",
      "\n",
      "```python\n",
      "# if-elif-else\n",
      "if a > 0:\n",
      "    print(\"양수\")\n",
      "elif a == 0:\n",
      "    print(\"0\")\n",
      "else:\n",
      "    print(\"음수\")\n",
      "\n",
      "# for loop (리스트 순회)\n",
      "for i in [1, 2, 3]:\n",
      "    print(i)\n",
      "\n",
      "# while loop\n",
      "i = 0\n",
      "while i < 3:\n",
      "    print(i)\n",
      "    i += 1\n",
      "```\n",
      "\n",
      "### 3.4 함수 정의와 타입 힌트\n",
      "\n",
      "```python\n",
      "def add(x: int, y: int) -> int:\n",
      "    \"\"\"두 정수를 더한 값을 반환한다.\"\"\"\n",
      "    return x + y\n",
      "\n",
      "result = add(5, 7)   # 12\n",
      "```\n",
      "\n",
      "### 3.5 클래스와 객체지향\n",
      "\n",
      "```python\n",
      "class Person:\n",
      "    def __init__(self, name: str, age: int):\n",
      "        self.name = name\n",
      "        self.age = age\n",
      "\n",
      "    def greet(self) -> None:\n",
      "        print(f\"안녕, 나는 {self.name}이고 {self.age}살이야.\")\n",
      "\n",
      "alice = Person(\"Alice\", 30)\n",
      "alice.greet()   # 안녕, 나는 Alice이고 30살이야.\n",
      "```\n",
      "\n",
      "### 3.6 모듈·패키지\n",
      "\n",
      "```python\n",
      "# my_module.py\n",
      "def hello():\n",
      "    print(\"Hello from my_module!\")\n",
      "\n",
      "# main.py\n",
      "import my_module\n",
      "my_module.hello()\n",
      "```\n",
      "\n",
      "---\n",
      "\n",
      "## 4. 파이썬이 활발히 쓰이는 분야\n",
      "\n",
      "| 분야 | 활용 예시 | 주요 라이브러리·프레임워크 |\n",
      "|------|----------|-----------------------------|\n",
      "| **웹 개발** | 백엔드 API, 서버 사이드 렌더링 | Django, Flask, FastAPI, Tornado |\n",
      "| **데이터 과학** | 데이터 전처리, 시각화, 통계 분석 | NumPy, pandas, Matplotlib, Seaborn |\n",
      "| **머신러닝·딥러닝** | 모델 학습·배포, 연구 | scikit‑learn, TensorFlow, PyTorch, Keras |\n",
      "| **자동화·스크립트** | 파일·시스템 관리, 테스트 자동화 | `os`, `shutil`, `subprocess`, `selenium` |\n",
      "| **클라우드·DevOps** | 인프라 코드, CI/CD 파이프라인 | Ansible, SaltStack, Fabric, Docker SDK |\n",
      "| **과학·공학** | 시뮬레이션, 수치 해석 | SciPy, SymPy, Jupyter Notebook |\n",
      "| **게임·멀티미디어** | 간단한 게임, GUI 애플리케이션 | Pygame, Kivy, Tkinter |\n",
      "| **교육** | 프로그래밍 입문, 알고리즘 교육 | Jupyter, Repl.it, Code.org 연동 |\n",
      "\n",
      "---\n",
      "\n",
      "## 5. 파이썬 실행 환경\n",
      "\n",
      "| 환경 | 특징 |\n",
      "|------|------|\n",
      "| **CPython** | 공식 레퍼런스 구현(가장 널리 사용). C로 구현되어 있어 가장 호환성이 높음. |\n",
      "| **PyPy** | JIT(Just‑In‑Time) 컴파일러 내장 → 실행 속도 4~7배 향상 (특히 루프가 많은 경우). |\n",
      "| **Jython** | Java Virtual Machine 위에서 동작 → Java 라이브러리와 직접 연동 가능. |\n",
      "| **IronPython** | .NET 환경용 파이썬 구현. |\n",
      "| **MicroPython / CircuitPython** | 마이크로컨트롤러(예: ESP32, Raspberry Pi Pico)용 경량 파이썬. |\n",
      "\n",
      "> **추천**: 일반적인 개발·학습 목적이라면 CPython(공식 배포판)을 사용하고, 성능이 중요한 경우 PyPy를 고려합니다.\n",
      "\n",
      "---\n",
      "\n",
      "## 6. 파이썬 패키지 관리\n",
      "\n",
      "- **pip**: `pip install numpy` 와 같이 명령어 한 줄로 패키지를 설치·업그레이드·제거.\n",
      "- **conda**: 과학·데이터 분야에서 많이 쓰이며, 파이썬 외에도 C, R 등 의존성까지 관리. `conda create -n myenv python=3.11 numpy pandas`.\n",
      "- **virtualenv / venv**: 프로젝트별 가상 환경을 만들어 의존성을 격리.\n",
      "\n",
      "### 예시: 가상 환경 만들고 패키지 설치\n",
      "\n",
      "```bash\n",
      "# 파이썬 3.11 기반 가상 환경 생성\n",
      "python -m venv myenv\n",
      "\n",
      "# 활성화 (Windows)\n",
      "myenv\\Scripts\\activate\n",
      "\n",
      "# 활성화 (macOS/Linux)\n",
      "source myenv/bin/activate\n",
      "\n",
      "# 패키지 설치\n",
      "pip install requests beautifulsoup4\n",
      "```\n",
      "\n",
      "---\n",
      "\n",
      "## 7. 파이썬 개발 도구\n",
      "\n",
      "| 도구 | 용도 |\n",
      "|------|------|\n",
      "| **IDE** | PyCharm, VS Code, Spyder, Thonny 등 |\n",
      "| **코드 포매터** | `black`, `autopep8` (PEP 8 스타일 자동 적용) |\n",
      "| **정적 타입 검사** | `mypy`, `pyright` (타입 힌트를 기반) |\n",
      "| **테스트 프레임워크** | `unittest`, `pytest`, `nose2` |\n",
      "| **문서화** | Sphinx, MkDocs |\n",
      "| **프로파일링** | `cProfile`, `line_profiler` |\n",
      "| **디버거** | `pdb`, VS Code 내장 디버거, PyCharm 디버거 |\n",
      "\n",
      "---\n",
      "\n",
      "## 8. 파이썬 학습 로드맵 (입문 → 중급 → 고급)\n",
      "\n",
      "1. **입문**\n",
      "   - 파이썬 설치와 기본 문법 (변수, 연산, 제어문)\n",
      "   - 기본 자료형·컬렉션(list, dict, set, tuple)\n",
      "   - 함수와 모듈\n",
      "   - 간단한 파일 입출력\n",
      "\n",
      "2. **중급**\n",
      "   - 객체지향 프로그래밍(OOP) – 클래스·상속·다형성\n",
      "   - 예외 처리와 컨텍스트 매니저(`with` 구문)\n",
      "   - 표준 라이브러리 활용 (`datetime`, `json`, `os`, `subprocess`)\n",
      "   - 가상 환경·패키지 관리(pip, venv)\n",
      "   - 기본 테스트(`unittest`, `pytest`)\n",
      "\n",
      "3. **전문 분야 진입**\n",
      "   - **웹**: Flask/Django 프로젝트 구축 → REST API, 템플릿, 인증/인가\n",
      "   - **데이터**: pandas로 데이터 전처리, Matplotlib/Seaborn 시각화\n",
      "   - **머신러닝**: scikit‑learn으로 모델링, TensorFlow/PyTorch로 딥러닝 실험\n",
      "   - **자동화**: Selenium·Requests·BeautifulSoup 로 웹 스크래핑, `schedule` 로 작업 스케줄링\n",
      "   - **클라우드**: AWS Boto3, Azure SDK, Docker + Python 스크립트\n",
      "\n",
      "4. **고급**\n",
      "   - 타입 힌트와 정적 분석(`typing`, `Protocol`, `TypedDict`)\n",
      "   - 메타프로그래밍(데코레이터, 메타클래스)\n",
      "   - C 확장 모듈(Cython, Pybind11)으로 성능 최적화\n",
      "   - 비동기 프로그래밍(`asyncio`, `aiohttp`) 및 고성능 서버(FastAPI)\n",
      "   - 배포와 CI/CD (GitHub Actions, GitLab CI, Docker, Kubernetes)\n",
      "\n",
      "---\n",
      "\n",
      "## 9. 파이썬 커뮤니티와 학습 자료\n",
      "\n",
      "| 종류 | 링크·설명 |\n",
      "|------|----------|\n",
      "| **공식 문서** | <https://docs.python.org/3/> – 가장 신뢰할 수 있는 레퍼런스. |\n",
      "| **튜토리얼** | <https://realpython.com/>, <https://www.learnpython.org/> |\n",
      "| **온라인 강좌** | Coursera, edX, Udemy, FastCampus, 인프런 등 |\n",
      "| **Q&A** | Stack Overflow, 구글링 시 `python` 태그 활용 |\n",
      "| **한국 커뮤니티** | 파이썬코리아(https://pythonkorea.org), OKKY, 인프런 포럼 |\n",
      "| **오픈소스 프로젝트** | Django, Flask, pandas, NumPy, Scikit‑learn 등 – 코드 읽고 기여해보세요. |\n",
      "\n",
      "---\n",
      "\n",
      "## 10. 파이썬을 선택해야 하는 이유 (요약)\n",
      "\n",
      "1. **가독성**: 코드를 읽고 이해하기 쉬워 유지보수가 용이.\n",
      "2. **생산성**: 짧은 코드로 복잡한 로직 구현 가능 → 개발 속도 향상.\n",
      "3. **생태계**: 거의 모든 분야에 맞는 라이브러리·프레임워크가 존재.\n",
      "4. **다양한 적용**: 웹, 데이터, AI, 자동화, 임베디드 등 폭넓은 활용.\n",
      "5. **커뮤니티**: 활발한 전 세계 커뮤니티가 있어 문제 해결이 빠름.\n",
      "6. **교육 친화성**: 초보자에게 가장 적합한 언어 중 하나.\n",
      "\n",
      "---\n",
      "\n",
      "## 11. 간단한 프로젝트 예시 (웹 스크래핑 + 데이터 시각화)\n",
      "\n",
      "아래 코드는 **네이버 뉴스 헤드라인**을 스크래핑하고, 가장 많이 등장한 단어를 막대그래프로 시각화하는 예시입니다.\n",
      "\n",
      "```python\n",
      "# 필요한 패키지 설치\n",
      "# pip install requests beautifulsoup4 pandas matplotlib konlpy\n",
      "\n",
      "import requests\n",
      "from bs4 import BeautifulSoup\n",
      "import pandas as pd\n",
      "import matplotlib.pyplot as plt\n",
      "from collections import Counter\n",
      "from konlpy.tag import Okt   # 한국어 형태소 분석기\n",
      "\n",
      "# 1️⃣ 뉴스 페이지 가져오기\n",
      "url = \"https://news.naver.com/main/main.naver?mode=LSD&mid=shm&sid1=100\"\n",
      "html = requests.get(url).text\n",
      "soup = BeautifulSoup(html, \"html.parser\")\n",
      "\n",
      "# 2️⃣ 헤드라인 추출\n",
      "headlines = [tag.get_text(strip=True) for tag in soup.select(\".cluster_body a\")]\n",
      "print(f\"수집된 헤드라인 개수: {len(headlines)}\")\n",
      "\n",
      "# 3️⃣ 형태소 분석 → 명사만 추출\n",
      "okt = Okt()\n",
      "words = []\n",
      "for title in headlines:\n",
      "    nouns = okt.nouns(title)\n",
      "    words.extend(nouns)\n",
      "\n",
      "# 4️⃣ 빈도 상위 15개 단어 추출\n",
      "counter = Counter(words)\n",
      "top15 = counter.most_common(15)\n",
      "\n",
      "# 5️⃣ DataFrame 으로 변환 후 시각화\n",
      "df = pd.DataFrame(top15, columns=[\"단어\", \"빈도\"])\n",
      "df.plot.bar(x=\"단어\", y=\"빈도\", legend=False, figsize=(10,5))\n",
      "plt.title(\"네이버 뉴스 헤드라인 상위 15개 명사\")\n",
      "plt.ylabel(\"출현 빈도\")\n",
      "plt.tight_layout()\n",
      "plt.show()\n",
      "```\n",
      "\n",
      "> **핵심 포인트**  \n",
      "> - `requests`와 `BeautifulSoup`으로 웹 페이지를 가져와 파싱.  \n",
      "> - `konlpy`(Okt)로 한국어 텍스트를 형태소 분석하고 명사만 추출.  \n",
      "> - `pandas`와 `matplotlib`으로 데이터를 정리·시각화.  \n",
      "\n",
      "이와 같은 짧은 스크립트만으로도 **데이터 수집 → 전처리 → 분석 → 시각화** 전 과정을 경험할 수 있습니다.\n",
      "\n",
      "---\n",
      "\n",
      "## 마무리\n",
      "\n",
      "파이썬은 **“쉽게 배우고, 강력하게 사용할 수 있는”** 언어라는 슬로건을 실제로 구현하고 있습니다. 입문자부터 전문가까지 모두에게 맞는 도구와 라이브러리가 풍부하기 때문에, 오늘부터 파이썬을 시작한다면 **다양한 프로젝트**를 통해 빠르게 실력을 늘릴 수 있습니다.  \n",
      "\n",
      "궁금한 점이 있으면 언제든 질문해주세요! 🚀\n"
     ]
    }
   ],
   "source": [
    "try:\n",
    "    response = llm.invoke(prompt_text)\n",
    "    print(type(response))\n",
    "    print(\"응답:\", response.content)\n",
    "except Exception as e:\n",
    "    print(f\"오류 발생: {e}\")"
   ]
  },
  {
   "cell_type": "markdown",
   "metadata": {},
   "source": [
    "# LCEL\n",
    "https://future-pizza-08b.notion.site/2-LLM-Prompt-LLM-LCEL-1b0563d40032800a993ee38ea44217de"
   ]
  },
  {
   "cell_type": "code",
   "execution_count": 7,
   "metadata": {},
   "outputs": [],
   "source": [
    "from langchain_core.output_parsers import StrOutputParser\n",
    "\n",
    "output_parser = StrOutputParser()"
   ]
  },
  {
   "cell_type": "code",
   "execution_count": 8,
   "metadata": {},
   "outputs": [
    {
     "name": "stdout",
     "output_type": "stream",
     "text": [
      "<class 'langchain_core.runnables.base.RunnableSequence'>\n",
      "first=ChatPromptTemplate(input_variables=['input'], input_types={}, partial_variables={}, messages=[SystemMessagePromptTemplate(prompt=PromptTemplate(input_variables=[], input_types={}, partial_variables={}, template='당신은 개발자입니다.'), additional_kwargs={}), HumanMessagePromptTemplate(prompt=PromptTemplate(input_variables=['input'], input_types={}, partial_variables={}, template='{input}'), additional_kwargs={})]) middle=[ChatOpenAI(client=<openai.resources.chat.completions.completions.Completions object at 0x00000215F256EBA0>, async_client=<openai.resources.chat.completions.completions.AsyncCompletions object at 0x00000215F2A65700>, root_client=<openai.OpenAI object at 0x00000215F2488920>, root_async_client=<openai.AsyncOpenAI object at 0x00000215F29FA720>, model_name='meta-llama/llama-4-scout-17b-16e-instruct', temperature=0.7, model_kwargs={}, openai_api_key=SecretStr('**********'), openai_api_base='https://api.groq.com/openai/v1')] last=StrOutputParser()\n"
     ]
    }
   ],
   "source": [
    "chain = prompt | llm | output_parser\n",
    "print(type(chain))\n",
    "print(chain)"
   ]
  },
  {
   "cell_type": "code",
   "execution_count": 15,
   "metadata": {},
   "outputs": [],
   "source": [
    "response = chain.invoke({\"input\":\"langchain 이란?\"})"
   ]
  },
  {
   "cell_type": "code",
   "execution_count": 16,
   "metadata": {},
   "outputs": [
    {
     "name": "stdout",
     "output_type": "stream",
     "text": [
      "<class 'str'>\n",
      "LangChain은 언어 모델을 활용하여 애플리케이션을 구축하기 위한 개발 프레임워크입니다. 대규모 언어 모델(LLM, Large Language Model)을 중심으로 하는 통합 프레임워크로서, 자연어 처리 기능을 통합하고 확장하는 것을 목표로 합니다.\n",
      "\n",
      "LangChain의 주요 목표는 개발자가 언어 모델을 쉽게 통합하고 활용할 수 있도록 하여, 자연어 처리 기능을 갖춘 애플리케이션을 보다 효율적으로 구축할 수 있도록 지원하는 것입니다. 이를 통해 개발자는 언어 모델의 복잡한 내부 구조나 대규모 데이터 세트에 대한 의존성을 줄이고, 보다 집중적으로 애플리케이션 개발에 집중할 수 있습니다.\n",
      "\n",
      "LangChain은 여러 가지 측면에서 언어 모델의 활용을 지원합니다. 여기에는 언어 모델을 사용한 텍스트 생성, 자연어 이해, 대화형 인터페이스 구축 등이 포함됩니다. 또한 LangChain은 다양한 언어 모델과의 통합을 지원하며, 이를 통해 개발자는 여러 모델을 비교하거나 결합하여 사용하는 등 다양한 실험을 수행할 수 있습니다.\n",
      "\n",
      "결론적으로, LangChain은 개발자가 언어 모델을 활용하여 자연어 처리 기능을 갖춘 애플리케이션을 보다 쉽고 효율적으로 구축할 수 있도록 지원하는 프레임워크입니다.\n"
     ]
    }
   ],
   "source": [
    "print(type(response))\n",
    "print(response)"
   ]
  }
 ],
 "metadata": {
  "kernelspec": {
   "display_name": "mylangchain-app-auRXAaAq-py3.12",
   "language": "python",
   "name": "python3"
  },
  "language_info": {
   "codemirror_mode": {
    "name": "ipython",
    "version": 3
   },
   "file_extension": ".py",
   "mimetype": "text/x-python",
   "name": "python",
   "nbconvert_exporter": "python",
   "pygments_lexer": "ipython3",
   "version": "3.12.7"
  }
 },
 "nbformat": 4,
 "nbformat_minor": 2
}

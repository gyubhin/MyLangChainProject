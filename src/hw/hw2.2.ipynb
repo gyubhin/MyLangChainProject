{
 "cells": [
  {
   "cell_type": "code",
   "execution_count": 1,
   "id": "9aeec55e",
   "metadata": {},
   "outputs": [],
   "source": [
    "from dotenv import load_dotenv\n",
    "import os\n",
    "from enum import Enum\n",
    "\n",
    "from langchain.output_parsers.enum import EnumOutputParser\n",
    "from langchain.output_parsers import OutputFixingParser\n",
    "from langchain_core.prompts import PromptTemplate\n",
    "from langchain_openai import ChatOpenAI"
   ]
  },
  {
   "cell_type": "code",
   "execution_count": 2,
   "id": "b4272714",
   "metadata": {},
   "outputs": [
    {
     "name": "stdout",
     "output_type": "stream",
     "text": [
      "gsk_4\n"
     ]
    }
   ],
   "source": [
    "load_dotenv()\n",
    "api_key = os.getenv(\"OPENAI_API_KEY\") \n",
    "print(api_key[:5])"
   ]
  },
  {
   "cell_type": "code",
   "execution_count": 3,
   "id": "e4c61adc",
   "metadata": {},
   "outputs": [],
   "source": [
    "class Sentiment(Enum):\n",
    "    POSITIVE = \"긍정\"\n",
    "    NEGATIVE = \"부정\"\n",
    "    NEUTRAL = \"보통\""
   ]
  },
  {
   "cell_type": "code",
   "execution_count": 4,
   "id": "c3b8c6b3",
   "metadata": {},
   "outputs": [
    {
     "name": "stdout",
     "output_type": "stream",
     "text": [
      "리뷰: \"이 영화 정말 재미없어요. 시간 낭비였습니다.\"\n",
      "감정: 부정\n",
      "----------------------------------------\n",
      "리뷰: \"배우들의 연기가 훌륭하고 스토리도 감동적이었어요!\"\n",
      "감정: 긍정\n",
      "----------------------------------------\n",
      "리뷰: \"그냥 무난한 영화였습니다. 나쁘지도 좋지도 않아요.\"\n",
      "감정: 보통\n",
      "----------------------------------------\n",
      "리뷰: \"아이들과 보기 괜찮은 영화였습니다. 한 번쯤 볼만해요.\"\n",
      "감정: 긍정\n",
      "----------------------------------------\n"
     ]
    }
   ],
   "source": [
    "enum_parser = EnumOutputParser(enum=Sentiment)\n",
    "\n",
    "llm_for_fixing = ChatOpenAI(\n",
    "    api_key=api_key,\n",
    "    base_url=\"https://api.groq.com/openai/v1\",\n",
    "    model=\"moonshotai/kimi-k2-instruct-0905\",\n",
    "    temperature=0\n",
    ")\n",
    "fixing_parser = OutputFixingParser.from_llm(parser=enum_parser, llm=llm_for_fixing)\n",
    "\n",
    "prompt = PromptTemplate(\n",
    "    template=(\n",
    "        \"주어진 영화 리뷰의 감정을 '긍정', '부정', '보통' 중 하나로 분류하세요.\\n\"\n",
    "        \"출력은 반드시 한국어 단어 하나여야 합니다.\\n\\n\"\n",
    "        \"리뷰: {review}\\n\"\n",
    "        \"감정:\"\n",
    "    ),\n",
    "    input_variables=[\"review\"],\n",
    ")\n",
    "\n",
    "llm = ChatOpenAI(\n",
    "    api_key=api_key,\n",
    "    base_url=\"https://api.groq.com/openai/v1\",\n",
    "    model=\"moonshotai/kimi-k2-instruct-0905\",\n",
    "    temperature=0.7, \n",
    ")\n",
    "\n",
    "chain = prompt | llm | fixing_parser\n",
    "\n",
    "if __name__ == \"__main__\":\n",
    "    test_reviews = [\n",
    "        \"이 영화 정말 재미없어요. 시간 낭비였습니다.\",\n",
    "        \"배우들의 연기가 훌륭하고 스토리도 감동적이었어요!\",\n",
    "        \"그냥 무난한 영화였습니다. 나쁘지도 좋지도 않아요.\",\n",
    "        \"아이들과 보기 괜찮은 영화였습니다. 한 번쯤 볼만해요.\"\n",
    "    ]\n",
    "\n",
    "    for review in test_reviews:\n",
    "        result = chain.invoke({\"review\": review})\n",
    "\n",
    "        if isinstance(result, Sentiment):\n",
    "            sentiment_label = result.value\n",
    "        else:\n",
    "            sentiment_label = str(result)\n",
    "\n",
    "        print(f\"리뷰: \\\"{review}\\\"\")\n",
    "        print(f\"감정: {sentiment_label}\")\n",
    "        print(\"-\" * 40)"
   ]
  }
 ],
 "metadata": {
  "kernelspec": {
   "display_name": "mylangchain-app-auRXAaAq-py3.12",
   "language": "python",
   "name": "python3"
  },
  "language_info": {
   "codemirror_mode": {
    "name": "ipython",
    "version": 3
   },
   "file_extension": ".py",
   "mimetype": "text/x-python",
   "name": "python",
   "nbconvert_exporter": "python",
   "pygments_lexer": "ipython3",
   "version": "3.12.7"
  }
 },
 "nbformat": 4,
 "nbformat_minor": 5
}

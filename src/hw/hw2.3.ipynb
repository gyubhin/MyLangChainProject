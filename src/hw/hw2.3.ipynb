{
 "cells": [
  {
   "cell_type": "code",
   "execution_count": 3,
   "id": "c79d333e",
   "metadata": {},
   "outputs": [],
   "source": [
    "from dotenv import load_dotenv\n",
    "import os\n",
    "\n",
    "from pydantic import BaseModel, Field\n",
    "from langchain_core.output_parsers import PydanticOutputParser\n",
    "from langchain_core.prompts import PromptTemplate\n",
    "from langchain_openai import ChatOpenAI"
   ]
  },
  {
   "cell_type": "code",
   "execution_count": null,
   "id": "834bb49d",
   "metadata": {},
   "outputs": [
    {
     "name": "stdout",
     "output_type": "stream",
     "text": [
      "gsk_4\n"
     ]
    }
   ],
   "source": [
    "load_dotenv()\n",
    "api_key = os.getenv(\"OPENAI_API_KEY\") \n",
    "print(api_key[:5])"
   ]
  },
  {
   "cell_type": "code",
   "execution_count": 4,
   "id": "e7ac2ec3",
   "metadata": {},
   "outputs": [
    {
     "name": "stdout",
     "output_type": "stream",
     "text": [
      "--- 추출된 학생 정보 ---\n",
      "이름: 김민수\n",
      "나이: 22\n",
      "전공: 컴퓨터공학\n",
      "취미: ['게임하기', '영화보기', '코딩']\n",
      "목표: 훌륭한 개발자가 되는 것\n",
      "\n",
      "--- 결과 타입 ---\n",
      "<class '__main__.StudentInfo'>\n"
     ]
    }
   ],
   "source": [
    "class StudentInfo(BaseModel):\n",
    "    name: str = Field(description=\"학생의 이름\")\n",
    "    age: int = Field(description=\"학생의 나이\")\n",
    "    major: str = Field(description=\"학생의 전공\")\n",
    "    hobbies: list[str] = Field(description=\"학생의 취미 리스트)\")\n",
    "    goal: str = Field(description=\"학생의 목표\")\n",
    "\n",
    "parser = PydanticOutputParser(pydantic_object=StudentInfo)\n",
    "format_instructions = parser.get_format_instructions() \n",
    "\n",
    "prompt = PromptTemplate(\n",
    "    template=(\n",
    "        \"아래 학생의 자유 형식 자기소개에서 정보를 추출하여 JSON으로 반환하세요.\\n\"\n",
    "        \"반드시 아래 형식과 타입을 따르세요.\\n\\n\"\n",
    "        \"{format_instructions}\\n\\n\"\n",
    "        \"자유 형식 자기소개:\\n{text}\"\n",
    "    ),\n",
    "    input_variables=[\"text\"],\n",
    "    partial_variables={\"format_instructions\": format_instructions},\n",
    ")\n",
    "\n",
    "llm = ChatOpenAI(\n",
    "    api_key=api_key,\n",
    "    base_url=\"https://api.groq.com/openai/v1\",\n",
    "    model=\"moonshotai/kimi-k2-instruct-0905\",\n",
    "    temperature=0.7,  \n",
    ")\n",
    "\n",
    "chain = prompt | llm | parser\n",
    "\n",
    "student_text = (\n",
    "    \"안녕하세요! 저는 김민수이고 22살입니다. \"\n",
    "    \"컴퓨터공학을 전공하고 있어요. \"\n",
    "    \"취미로는 게임하기, 영화보기, 코딩을 좋아합니다. \"\n",
    "    \"앞으로 훌륭한 개발자가 되는 것이 목표입니다.\"\n",
    ")\n",
    "\n",
    "structured = chain.invoke({\"text\": student_text})\n",
    "\n",
    "print(\"--- 추출된 학생 정보 ---\")\n",
    "print(f\"이름: {structured.name}\")\n",
    "print(f\"나이: {structured.age}\")\n",
    "print(f\"전공: {structured.major}\")\n",
    "print(f\"취미: {structured.hobbies}\")\n",
    "print(f\"목표: {structured.goal}\")\n",
    "\n",
    "print(\"\\n--- 결과 타입 ---\")\n",
    "print(type(structured))"
   ]
  }
 ],
 "metadata": {
  "kernelspec": {
   "display_name": "mylangchain-app-auRXAaAq-py3.12",
   "language": "python",
   "name": "python3"
  },
  "language_info": {
   "codemirror_mode": {
    "name": "ipython",
    "version": 3
   },
   "file_extension": ".py",
   "mimetype": "text/x-python",
   "name": "python",
   "nbconvert_exporter": "python",
   "pygments_lexer": "ipython3",
   "version": "3.12.7"
  }
 },
 "nbformat": 4,
 "nbformat_minor": 5
}

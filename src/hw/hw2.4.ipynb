{
 "cells": [
  {
   "cell_type": "code",
   "execution_count": 1,
   "id": "ecbe4c17",
   "metadata": {},
   "outputs": [],
   "source": [
    "from dotenv import load_dotenv\n",
    "import os\n",
    "from langchain_core.prompts import ChatPromptTemplate\n",
    "from langchain.output_parsers import StructuredOutputParser, ResponseSchema\n",
    "from langchain_openai import ChatOpenAI"
   ]
  },
  {
   "cell_type": "code",
   "execution_count": 2,
   "id": "49a73c65",
   "metadata": {},
   "outputs": [
    {
     "name": "stdout",
     "output_type": "stream",
     "text": [
      "gsk_4\n"
     ]
    }
   ],
   "source": [
    "load_dotenv()\n",
    "api_key = os.getenv(\"OPENAI_API_KEY\") \n",
    "print(api_key[:5])"
   ]
  },
  {
   "cell_type": "code",
   "execution_count": 4,
   "id": "be7dfeaa",
   "metadata": {},
   "outputs": [
    {
     "name": "stdout",
     "output_type": "stream",
     "text": [
      "--- 추출된 여행 정보 ---\n",
      "여행지: 부산\n",
      "기간: 2박 3일\n",
      "예산: 30만원\n",
      "추천도: 4점\n",
      "주요 활동: 해운대 바다구경, 자갈치시장 회 먹기, 감천문화마을 구경\n",
      "\n",
      "--- 결과 타입 ---\n",
      "<class 'dict'>\n"
     ]
    }
   ],
   "source": [
    "response_schemas = [\n",
    "    ResponseSchema(name=\"destination\", description=\"여행지\"),\n",
    "    ResponseSchema(name=\"duration\", description=\"여행 기간\"),\n",
    "    ResponseSchema(name=\"budget\", description=\"여행 예산\"),\n",
    "    ResponseSchema(name=\"rating\", description=\"여행 만족도 (1-5점)\"),\n",
    "    ResponseSchema(name=\"activities\", description=\"주요 활동 리스트\")\n",
    "]\n",
    "\n",
    "parser = StructuredOutputParser.from_response_schemas(response_schemas)\n",
    "format_instructions = parser.get_format_instructions()\n",
    "\n",
    "prompt = ChatPromptTemplate.from_template(\n",
    "    \"주어진 여행 후기 또는 계획 텍스트에서 다음 정보를 추출해 JSON으로 반환해줘.\\n\\n\"\n",
    "    \"{format_instructions}\\n\\n\"\n",
    "    \"여행 텍스트:\\n{text}\"\n",
    ")\n",
    "\n",
    "llm = ChatOpenAI(\n",
    "    api_key=api_key,\n",
    "    base_url=\"https://api.groq.com/openai/v1\",\n",
    "    model=\"moonshotai/kimi-k2-instruct-0905\",\n",
    "    temperature=0\n",
    ")\n",
    "\n",
    "chain = prompt | llm | parser\n",
    "\n",
    "travel_review = (\n",
    "    \"지난 주에 부산으로 2박 3일 여행을 다녀왔어요. 총 30만원 정도 썼는데 해운대에서 바다구경하고, \"\n",
    "    \"자갈치시장에서 회 먹고, 감천문화마을도 구경했어요. 정말 만족스러운 여행이었습니다. \"\n",
    "    \"5점 만점에 4점 정도 줄 수 있을 것 같아요.\"\n",
    ")\n",
    "\n",
    "structured_info = chain.invoke({\"text\": travel_review, \"format_instructions\": format_instructions})\n",
    "\n",
    "print(\"--- 추출된 여행 정보 ---\")\n",
    "print(f\"여행지: {structured_info['destination']}\")\n",
    "print(f\"기간: {structured_info['duration']}\")\n",
    "print(f\"예산: {structured_info['budget']}\")\n",
    "print(f\"추천도: {structured_info['rating']}\")\n",
    "print(f\"주요 활동: {''.join(structured_info['activities'])}\")\n",
    "\n",
    "print(\"\\n--- 결과 타입 ---\")\n",
    "print(type(structured_info))"
   ]
  }
 ],
 "metadata": {
  "kernelspec": {
   "display_name": "mylangchain-app-auRXAaAq-py3.12",
   "language": "python",
   "name": "python3"
  },
  "language_info": {
   "codemirror_mode": {
    "name": "ipython",
    "version": 3
   },
   "file_extension": ".py",
   "mimetype": "text/x-python",
   "name": "python",
   "nbconvert_exporter": "python",
   "pygments_lexer": "ipython3",
   "version": "3.12.7"
  }
 },
 "nbformat": 4,
 "nbformat_minor": 5
}

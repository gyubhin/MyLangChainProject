{
 "cells": [
  {
   "cell_type": "code",
   "execution_count": 2,
   "id": "d1510a08",
   "metadata": {},
   "outputs": [
    {
     "name": "stdout",
     "output_type": "stream",
     "text": [
      "입력: \"로마\"\n",
      "1단계 결과: \"콜로세움\"\n",
      "2단계 결과:\n",
      "명소: 콜로세움\n",
      "명소: 콜로세움  \n",
      "역사:  \n",
      "- AD 72년 베스파시아누스 황제가 착공, AD 80년 티투스 황제가 완공(8년 공사).  \n",
      "- 고대 로마 최대 원형경기장으로 약 5만 명 수용, 검투사·야수·모의해전(나우마키아) 등 공연.  \n",
      "- 6세기까지 사용 후 지진·석재 약탈로 붕괴, 18세기 토머스 콕 등 대(Grand Tour) 시대부터 관광지화.  \n",
      "\n",
      "특징:  \n",
      "- 타원형(외경 189×156 m, 높이 48 m) 4층 구조: 1·2층 아치·기둥 장식, 3층 이온·코린트·코린트 혼용, 4층 청동 방패창.  \n",
      "- 지하(히포게움)는 무대 장치·야수 우리·승강기·슈어리(수중전용) 수조 유적 보존.  \n",
      "- 1997년 유네스코 세계문화유산 등재, 이탈리아 국보급 건축물.  \n",
      "\n",
      "방문 팁:  \n",
      "- 온라인 예약 필수(현장 구매보다 2€ 수수료 있어도 대기 시간 절약), 이른 아침·저녁 1시간 전 입장이 빠름.  \n",
      "- “Full Experience” 티켓(히포게움+경기장 바닥) 구매 시 해설 오디오 가이드 포함, 야간 투어(4~10월) 분위기 좋음.  \n",
      "- 경찰 단속 강화: 밖에 앉아서 피크닉·식사 금지, 가방은 X-ray 검색, 칼·가위류 반입 불가.\n"
     ]
    }
   ],
   "source": [
    "from langchain_core.prompts import ChatPromptTemplate\n",
    "from langchain_openai import ChatOpenAI\n",
    "from langchain_core.output_parsers import StrOutputParser\n",
    "from langchain_core.runnables import RunnablePassthrough\n",
    "from dotenv import load_dotenv\n",
    "import os\n",
    "\n",
    "load_dotenv()\n",
    "\n",
    "llm = ChatOpenAI(\n",
    "    api_key=os.getenv(\"GROQ_API_KEY\"),\n",
    "    base_url=\"https://api.groq.com/openai/v1\",\n",
    "    model=\"moonshotai/kimi-k2-instruct-0905\",\n",
    "    temperature=0.7,\n",
    ")\n",
    "\n",
    "prompt1 = ChatPromptTemplate.from_messages([\n",
    "    (\"system\", \"당신은 신뢰할 수 있는 한국어 여행 가이드입니다. \"\n",
    "               \"질문이 모호하더라도 사용자가 지정한 여행지(도시/국가)에 대해 대표 관광 명소 1가지만 한국어로 추천하세요. \"\n",
    "               \"가능하면 고유명사만 출력하세요.\"),\n",
    "    (\"user\", \"{destination}의 대표적인 관광 명소 한 가지를 추천해 주세요. \"\n",
    "             \"반드시 명소명만 출력해 주세요.\")\n",
    "])\n",
    "chain1 = prompt1 | llm | StrOutputParser()\n",
    "\n",
    "prompt2 = ChatPromptTemplate.from_messages([\n",
    "    (\"system\", \"너는 간결하고 정확한 한국어 여행 도슨트다. \"\n",
    "               \"사실과 일반적 방문 팁을 구조화해 설명하라.\"),\n",
    "    (\"user\",\n",
    "     \"다음 명소에 대한 상세 정보를 한국어로 정리해 주세요.\\n\"\n",
    "     \"명소: {attraction}\\n\\n\"\n",
    "     \"형식은 아래를 따르세요.\\n\"\n",
    "     \"명소: {attraction}\\n\"\n",
    "     \"역사:\\n- ...\\n- ...\\n\"\n",
    "     \"특징:\\n- ...\\n- ...\\n\"\n",
    "     \"방문 팁:\\n- ...\\n- ...\")\n",
    "])\n",
    "chain2 = prompt2 | llm | StrOutputParser()\n",
    "\n",
    "combined_chain = (\n",
    "    {\"destination\": RunnablePassthrough()}\n",
    "    | RunnablePassthrough.assign(attraction=chain1)\n",
    "    | RunnablePassthrough.assign(details=chain2)\n",
    ")\n",
    "\n",
    "destination = \"로마\"\n",
    "result = combined_chain.invoke({\"destination\": destination})\n",
    "\n",
    "print(f'입력: \"{destination}\"')\n",
    "print(f'1단계 결과: \"{result[\"attraction\"]}\"')\n",
    "print(\"2단계 결과:\")\n",
    "print(f\"명소: {result['attraction']}\\n{result['details']}\")"
   ]
  }
 ],
 "metadata": {
  "kernelspec": {
   "display_name": "mylangchain-app-auRXAaAq-py3.12",
   "language": "python",
   "name": "python3"
  },
  "language_info": {
   "codemirror_mode": {
    "name": "ipython",
    "version": 3
   },
   "file_extension": ".py",
   "mimetype": "text/x-python",
   "name": "python",
   "nbconvert_exporter": "python",
   "pygments_lexer": "ipython3",
   "version": "3.12.7"
  }
 },
 "nbformat": 4,
 "nbformat_minor": 5
}

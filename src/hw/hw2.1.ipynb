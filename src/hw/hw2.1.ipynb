{
 "cells": [
  {
   "cell_type": "code",
   "execution_count": 1,
   "id": "65bd72e7",
   "metadata": {},
   "outputs": [],
   "source": [
    "from dotenv import load_dotenv\n",
    "import os\n",
    "\n",
    "from langchain_core.prompts import PromptTemplate\n",
    "from langchain_openai import ChatOpenAI\n",
    "from langchain.output_parsers import CommaSeparatedListOutputParser"
   ]
  },
  {
   "cell_type": "code",
   "execution_count": 6,
   "id": "bb69b4d1",
   "metadata": {},
   "outputs": [
    {
     "name": "stdout",
     "output_type": "stream",
     "text": [
      "gsk_4\n"
     ]
    }
   ],
   "source": [
    "load_dotenv()\n",
    "api_key = os.getenv(\"OPENAI_API_KEY\") \n",
    "print(api_key[:5])"
   ]
  },
  {
   "cell_type": "code",
   "execution_count": 7,
   "id": "3ddfea46",
   "metadata": {},
   "outputs": [],
   "source": [
    "parser = CommaSeparatedListOutputParser()\n",
    "format_hint = parser.get_format_instructions()"
   ]
  },
  {
   "cell_type": "code",
   "execution_count": 9,
   "id": "8fdf1c00",
   "metadata": {},
   "outputs": [
    {
     "name": "stdout",
     "output_type": "stream",
     "text": [
      "\n",
      "입력: 음식\n",
      "출력: ['광장시장 음식 골목 투어', '전주 한옥마을 비빔밥 체험', '제주도 흑돼지 구이 먹방', '김장 체험 농가(전라도)', '한과·전통차 만들기(인사동)']\n",
      "출력 타입: <class 'list'>\n"
     ]
    }
   ],
   "source": [
    "prompt = PromptTemplate(\n",
    "    input_variables=[\"field\"],\n",
    "    partial_variables={\"format_hint\": format_hint},\n",
    "    template=(\n",
    "        \"너는 한국 문화 안내자다.\\n\"\n",
    "        \"사용자가 제시하는 관심 분야와 관련된 한국의 대표적인 장소나 활동 5가지를 생각해보자.\\n\"\n",
    "        \"분야: {field}\\n\\n\"\n",
    "        \"출력은 반드시 쉼표로 구분된 리스트 형식으로만 작성해.\\n\"\n",
    "        \"{format_hint}\"\n",
    "    )\n",
    ")\n",
    "\n",
    "llm = ChatOpenAI(\n",
    "    api_key=api_key,\n",
    "    base_url=\"https://api.groq.com/openai/v1\",\n",
    "    model=\"moonshotai/kimi-k2-instruct-0905\",\n",
    "    temperature=0.7,\n",
    ")\n",
    "\n",
    "chain = prompt | llm | parser\n",
    "\n",
    "topic = input(\"관심 있는 분야를 입력하세요\").strip()\n",
    "recs = chain.invoke({\"field\": topic})\n",
    "print(f\"\\n입력: {topic}\")\n",
    "print(f\"출력: {recs}\")\n",
    "print(f\"출력 타입: {type(recs)}\")"
   ]
  }
 ],
 "metadata": {
  "kernelspec": {
   "display_name": "mylangchain-app-auRXAaAq-py3.12",
   "language": "python",
   "name": "python3"
  },
  "language_info": {
   "codemirror_mode": {
    "name": "ipython",
    "version": 3
   },
   "file_extension": ".py",
   "mimetype": "text/x-python",
   "name": "python",
   "nbconvert_exporter": "python",
   "pygments_lexer": "ipython3",
   "version": "3.12.7"
  }
 },
 "nbformat": 4,
 "nbformat_minor": 5
}

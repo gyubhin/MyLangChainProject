{
 "cells": [
  {
   "cell_type": "code",
   "execution_count": 3,
   "id": "b8d871da",
   "metadata": {},
   "outputs": [
    {
     "name": "stdout",
     "output_type": "stream",
     "text": [
      "추천 요리: 김치 계란 볶음밥\n",
      "재료: 계란, 밥, 김치\n",
      "조리법:\n",
      "1. 팬에 기름을 두르고 잘게 썬 김치를 중불에서 2분간 볶아라.\n",
      "2. 밥을 넣고 김치와 잘 섞이도록 2분간 더 볶은 후, 계란을 바로 풀어 넣어 1분간 빠르게 섞어라.\n",
      "3. 불을 끄고 30초간 뜸을 들인 뒤 그대로 접시에 담아라.\n"
     ]
    }
   ],
   "source": [
    "from langchain_core.prompts import PromptTemplate\n",
    "from langchain_core.output_parsers import StrOutputParser\n",
    "from langchain_openai import ChatOpenAI\n",
    "from dotenv import load_dotenv\n",
    "import os\n",
    "\n",
    "load_dotenv()\n",
    "\n",
    "llm = ChatOpenAI(\n",
    "    api_key=os.getenv(\"GROQ_API_KEY\"),\n",
    "    base_url=\"https://api.groq.com/openai/v1\",\n",
    "    model=\"moonshotai/kimi-k2-instruct-0905\",\n",
    "    temperature=0.7,\n",
    ")\n",
    "\n",
    "prompt = PromptTemplate.from_template(\n",
    "    \"\"\"당신은 한국인 AI 요리사입니다.\n",
    "사용자 재료만 사용해 1개의 요리와 간단 레시피를 제시하세요.\n",
    "아래 형식을 반드시 지키세요.\n",
    "\n",
    "추천 요리: <요리명>\n",
    "재료: <콤마로 구분된 재료 목록>\n",
    "조리법:\n",
    "1. <단계1>\n",
    "2. <단계2>\n",
    "3. <단계3>\n",
    "\n",
    "사용자 재료: {ingredients}\n",
    "\"\"\"\n",
    ")\n",
    "\n",
    "chain = prompt | llm | StrOutputParser()\n",
    "\n",
    "ingredients = \"계란, 밥, 김치\"\n",
    "recipe = chain.invoke({\"ingredients\": ingredients})\n",
    "print(recipe)"
   ]
  }
 ],
 "metadata": {
  "kernelspec": {
   "display_name": "mylangchain-app-auRXAaAq-py3.12",
   "language": "python",
   "name": "python3"
  },
  "language_info": {
   "codemirror_mode": {
    "name": "ipython",
    "version": 3
   },
   "file_extension": ".py",
   "mimetype": "text/x-python",
   "name": "python",
   "nbconvert_exporter": "python",
   "pygments_lexer": "ipython3",
   "version": "3.12.7"
  }
 },
 "nbformat": 4,
 "nbformat_minor": 5
}
